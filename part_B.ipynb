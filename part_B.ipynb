{
 "cells": [
  {
   "cell_type": "markdown",
   "metadata": {},
   "source": [
    "# TECH 2 mandatory assignment - Part B\n",
    "\n",
    "Write your solution for Part B in this notebook."
   ]
  },
  {
   "cell_type": "code",
   "execution_count": 32,
   "metadata": {},
   "outputs": [],
   "source": [
    "# Import data from the CVS file containing three columns of random numbers\n",
    "file = open(\"data.csv\", \"r\")\n",
    "# Initialize three empty lists for storing the columns\n",
    "col1, col2, col3 = [], [], []\n",
    "\n",
    "# Loop over each line and split the line by commas\n",
    "for line in file:\n",
    "    values = line.strip().split(\",\") #strip removes whitespace and split breaks the line into separate string values\n",
    "    try:                             \n",
    "        # Column 1 (100 numbers)\n",
    "        col1.append(float(values[0]))    \n",
    "    except ValueError as e:\n",
    "        pass\n",
    "    \n",
    "    try:\n",
    "        # Column 2 (1000 numbers)\n",
    "        col2.append(float(values[1]))\n",
    "    except ValueError as e:\n",
    "        pass\n",
    "    \n",
    "    try:\n",
    "        # Column 3 (10 000 numbers)\n",
    "        col3.append(float(values[2]))\n",
    "    except ValueError as e:\n",
    "        pass\n",
    "\n",
    "# Close the file after reading\n",
    "file.close()"
   ]
  },
  {
   "cell_type": "markdown",
   "metadata": {},
   "source": [
    "In the code above, I used a \"try\" and \"except\" block for all three columns to handle potential ValueError exceptions. This was necessary because the columns did not contain the same sequence of numbers, and column 1 and 2 had cells with whitespace. \n",
    "When running the code, the for loop ensures that all the cells in the columns, including thosecontaining whitespace, are processed. Since whitespace cannot be converted to a float, attempting to do so raises a ValueError. To prevent the code from beaking, I used the \"except ValueError\" block to catch the exception, allowing the code to ignore the error and continue execution."
   ]
  },
  {
   "cell_type": "code",
   "execution_count": 38,
   "metadata": {},
   "outputs": [],
   "source": [
    "# Import the functions from task A\n",
    "from part_A import std_loops, std_builtin, std_numpy"
   ]
  },
  {
   "cell_type": "code",
   "execution_count": 41,
   "metadata": {},
   "outputs": [
    {
     "name": "stdout",
     "output_type": "stream",
     "text": [
      "18.7 µs ± 2.41 µs per loop (mean ± std. dev. of 7 runs, 100,000 loops each)\n",
      "185 µs ± 55.9 µs per loop (mean ± std. dev. of 7 runs, 1,000 loops each)\n",
      "1.44 ms ± 52 µs per loop (mean ± std. dev. of 7 runs, 1,000 loops each)\n"
     ]
    }
   ],
   "source": [
    "# Run-time for function 1 (loop)\n",
    "%timeit std_loops(col1)\n",
    "%timeit std_loops(col2)\n",
    "%timeit std_loops(col3)"
   ]
  },
  {
   "cell_type": "code",
   "execution_count": 40,
   "metadata": {},
   "outputs": [
    {
     "name": "stdout",
     "output_type": "stream",
     "text": [
      "17.7 µs ± 778 ns per loop (mean ± std. dev. of 7 runs, 100,000 loops each)\n",
      "169 µs ± 3.53 µs per loop (mean ± std. dev. of 7 runs, 10,000 loops each)\n",
      "1.57 ms ± 16.6 µs per loop (mean ± std. dev. of 7 runs, 1,000 loops each)\n"
     ]
    }
   ],
   "source": [
    "# Run-time for function 2 (built-in)\n",
    "%timeit std_builtin(col1)\n",
    "%timeit std_builtin(col2)\n",
    "%timeit std_builtin(col3)"
   ]
  },
  {
   "cell_type": "code",
   "execution_count": 42,
   "metadata": {},
   "outputs": [
    {
     "name": "stdout",
     "output_type": "stream",
     "text": [
      "57.2 µs ± 18.5 µs per loop (mean ± std. dev. of 7 runs, 10,000 loops each)\n",
      "102 µs ± 18 µs per loop (mean ± std. dev. of 7 runs, 10,000 loops each)\n",
      "912 µs ± 224 µs per loop (mean ± std. dev. of 7 runs, 1,000 loops each)\n"
     ]
    }
   ],
   "source": [
    "# Run-time for function 3 (NumPy)\n",
    "%timeit std_numpy(col1)\n",
    "%timeit std_numpy(col2)\n",
    "%timeit std_numpy(col3) "
   ]
  },
  {
   "cell_type": "markdown",
   "metadata": {},
   "source": [
    "Conclution\n",
    "\n",
    "The third approach, using NumPy's std() function, which is a pre-existing Python function, is the most effective for calculating the standard deviation of all three sequences. However, as observed from the time computed from each loop, the length of the sequence plays an important role in determine the fastest approach. Although the third approach (NumPy) was the fastets overall, the fist loop in approach 3 had a longer run-time compared to both approach 1 (manual loop) and 2 (built-in functions). \n",
    "\n",
    "Pythons loops process one element at a time, while NumPy operations process entire arrays in bulk. When using the std() function, NumPy avoids unnecessary operations, making it faster than summing and looping through the data. However, for shorter sequences, it takes longer to run the loop with NumPy because of its advanced features. In conclution, for shorter sequences, built-in functions such as sum() and len() tend to be more efficient. However, for longer sequences, NumPy is by far the most effective. "
   ]
  }
 ],
 "metadata": {
  "kernelspec": {
   "display_name": "Python 3",
   "language": "python",
   "name": "python3"
  },
  "language_info": {
   "codemirror_mode": {
    "name": "ipython",
    "version": 3
   },
   "file_extension": ".py",
   "mimetype": "text/x-python",
   "name": "python",
   "nbconvert_exporter": "python",
   "pygments_lexer": "ipython3",
   "version": "3.9.6"
  }
 },
 "nbformat": 4,
 "nbformat_minor": 2
}
